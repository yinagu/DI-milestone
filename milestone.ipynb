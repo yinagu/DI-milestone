{
 "cells": [
  {
   "cell_type": "markdown",
   "metadata": {},
   "source": [
    "# Milestone Project: \n",
    "- Clone the Flask Demo repository and create your own Flask app on Heroku that accepts a stock ticker input from the user and plots closing price data for the last month. The Quandle WIKI dataset provides this data for free, and you can use Python's Requests library along with simplejson to access it in Python via API. You can analyze the data using pandas and plot using Bokeh. By the end you should have some kind of interactive visualization viewable from the Internet.\n",
    "- Heroku is a popular cloud application platform, and their documentation is a great resource for understanding how to deploy a simple (free!) server using git.\n",
    "- For more information about Flask, here is a good starting point, especially the links in the \"Starting Off\" section. This tutorial has great step-by-step explanations.\n",
    "- Note: By default, Flask prohibits connections from external machines. If you wish to run Flask from your DO server but access it from your local machine via your web browser, you must replace the command app.run() with app.run(host='0.0.0.0') in your main program."
   ]
  },
  {
   "cell_type": "markdown",
   "metadata": {},
   "source": [
    "API Key: ts2seF_Hy53zE-K6xcxz"
   ]
  },
  {
   "cell_type": "code",
   "execution_count": 2,
   "metadata": {
    "collapsed": true
   },
   "outputs": [],
   "source": [
    "import numpy as np\n",
    "import requests\n",
    "import pandas as pd\n",
    "import json"
   ]
  },
  {
   "cell_type": "code",
   "execution_count": 20,
   "metadata": {
    "collapsed": false
   },
   "outputs": [],
   "source": [
    "ticker = 'GOOG'\n",
    "json_obj = requests.get('https://www.quandl.com/api/v3/datasets/WIKI/'+ticker+'.json?order=asc')\n",
    "\n",
    "data = json.loads(json_obj.text)\n",
    "\n",
    "df = pd.read_json(json.dumps(data['dataset']['data']))\n",
    "\n",
    "# map the column names\n",
    "df.columns = data['dataset']['column_names']"
   ]
  },
  {
   "cell_type": "code",
   "execution_count": 21,
   "metadata": {
    "collapsed": false
   },
   "outputs": [
    {
     "data": {
      "text/html": [
       "<div>\n",
       "<table border=\"1\" class=\"dataframe\">\n",
       "  <thead>\n",
       "    <tr style=\"text-align: right;\">\n",
       "      <th></th>\n",
       "      <th>Date</th>\n",
       "      <th>Open</th>\n",
       "      <th>High</th>\n",
       "      <th>Low</th>\n",
       "      <th>Close</th>\n",
       "      <th>Volume</th>\n",
       "      <th>Ex-Dividend</th>\n",
       "      <th>Split Ratio</th>\n",
       "      <th>Adj. Open</th>\n",
       "      <th>Adj. High</th>\n",
       "      <th>Adj. Low</th>\n",
       "      <th>Adj. Close</th>\n",
       "      <th>Adj. Volume</th>\n",
       "    </tr>\n",
       "  </thead>\n",
       "  <tbody>\n",
       "    <tr>\n",
       "      <th>685</th>\n",
       "      <td>2016-12-13</td>\n",
       "      <td>793.90</td>\n",
       "      <td>804.3799</td>\n",
       "      <td>793.34</td>\n",
       "      <td>796.10</td>\n",
       "      <td>2085270</td>\n",
       "      <td>0</td>\n",
       "      <td>1</td>\n",
       "      <td>793.90</td>\n",
       "      <td>804.3799</td>\n",
       "      <td>793.34</td>\n",
       "      <td>796.10</td>\n",
       "      <td>2085270</td>\n",
       "    </tr>\n",
       "    <tr>\n",
       "      <th>686</th>\n",
       "      <td>2016-12-14</td>\n",
       "      <td>797.40</td>\n",
       "      <td>804.0000</td>\n",
       "      <td>794.01</td>\n",
       "      <td>797.07</td>\n",
       "      <td>1652691</td>\n",
       "      <td>0</td>\n",
       "      <td>1</td>\n",
       "      <td>797.40</td>\n",
       "      <td>804.0000</td>\n",
       "      <td>794.01</td>\n",
       "      <td>797.07</td>\n",
       "      <td>1652691</td>\n",
       "    </tr>\n",
       "    <tr>\n",
       "      <th>687</th>\n",
       "      <td>2016-12-15</td>\n",
       "      <td>797.34</td>\n",
       "      <td>803.0000</td>\n",
       "      <td>792.92</td>\n",
       "      <td>797.85</td>\n",
       "      <td>1607120</td>\n",
       "      <td>0</td>\n",
       "      <td>1</td>\n",
       "      <td>797.34</td>\n",
       "      <td>803.0000</td>\n",
       "      <td>792.92</td>\n",
       "      <td>797.85</td>\n",
       "      <td>1607120</td>\n",
       "    </tr>\n",
       "    <tr>\n",
       "      <th>688</th>\n",
       "      <td>2016-12-16</td>\n",
       "      <td>800.40</td>\n",
       "      <td>800.8558</td>\n",
       "      <td>790.29</td>\n",
       "      <td>790.80</td>\n",
       "      <td>2337154</td>\n",
       "      <td>0</td>\n",
       "      <td>1</td>\n",
       "      <td>800.40</td>\n",
       "      <td>800.8558</td>\n",
       "      <td>790.29</td>\n",
       "      <td>790.80</td>\n",
       "      <td>2337154</td>\n",
       "    </tr>\n",
       "    <tr>\n",
       "      <th>689</th>\n",
       "      <td>2016-12-19</td>\n",
       "      <td>790.22</td>\n",
       "      <td>797.6600</td>\n",
       "      <td>786.27</td>\n",
       "      <td>794.20</td>\n",
       "      <td>1209619</td>\n",
       "      <td>0</td>\n",
       "      <td>1</td>\n",
       "      <td>790.22</td>\n",
       "      <td>797.6600</td>\n",
       "      <td>786.27</td>\n",
       "      <td>794.20</td>\n",
       "      <td>1209619</td>\n",
       "    </tr>\n",
       "  </tbody>\n",
       "</table>\n",
       "</div>"
      ],
      "text/plain": [
       "           Date    Open      High     Low   Close   Volume  Ex-Dividend  \\\n",
       "685  2016-12-13  793.90  804.3799  793.34  796.10  2085270            0   \n",
       "686  2016-12-14  797.40  804.0000  794.01  797.07  1652691            0   \n",
       "687  2016-12-15  797.34  803.0000  792.92  797.85  1607120            0   \n",
       "688  2016-12-16  800.40  800.8558  790.29  790.80  2337154            0   \n",
       "689  2016-12-19  790.22  797.6600  786.27  794.20  1209619            0   \n",
       "\n",
       "     Split Ratio  Adj. Open  Adj. High  Adj. Low  Adj. Close  Adj. Volume  \n",
       "685            1     793.90   804.3799    793.34      796.10      2085270  \n",
       "686            1     797.40   804.0000    794.01      797.07      1652691  \n",
       "687            1     797.34   803.0000    792.92      797.85      1607120  \n",
       "688            1     800.40   800.8558    790.29      790.80      2337154  \n",
       "689            1     790.22   797.6600    786.27      794.20      1209619  "
      ]
     },
     "execution_count": 21,
     "metadata": {},
     "output_type": "execute_result"
    }
   ],
   "source": [
    "df.tail()"
   ]
  },
  {
   "cell_type": "code",
   "execution_count": 26,
   "metadata": {
    "collapsed": false
   },
   "outputs": [
    {
     "data": {
      "text/html": [
       "<div>\n",
       "<table border=\"1\" class=\"dataframe\">\n",
       "  <thead>\n",
       "    <tr style=\"text-align: right;\">\n",
       "      <th></th>\n",
       "      <th>Date</th>\n",
       "      <th>Open</th>\n",
       "      <th>High</th>\n",
       "      <th>Low</th>\n",
       "      <th>Close</th>\n",
       "      <th>Volume</th>\n",
       "      <th>Ex-Dividend</th>\n",
       "      <th>Split Ratio</th>\n",
       "      <th>Adj. Open</th>\n",
       "      <th>Adj. High</th>\n",
       "      <th>Adj. Low</th>\n",
       "      <th>Adj. Close</th>\n",
       "      <th>Adj. Volume</th>\n",
       "    </tr>\n",
       "  </thead>\n",
       "  <tbody>\n",
       "    <tr>\n",
       "      <th>685</th>\n",
       "      <td>2016-12-13</td>\n",
       "      <td>793.90</td>\n",
       "      <td>804.3799</td>\n",
       "      <td>793.34</td>\n",
       "      <td>796.10</td>\n",
       "      <td>2085270</td>\n",
       "      <td>0</td>\n",
       "      <td>1</td>\n",
       "      <td>793.90</td>\n",
       "      <td>804.3799</td>\n",
       "      <td>793.34</td>\n",
       "      <td>796.10</td>\n",
       "      <td>2085270</td>\n",
       "    </tr>\n",
       "    <tr>\n",
       "      <th>686</th>\n",
       "      <td>2016-12-14</td>\n",
       "      <td>797.40</td>\n",
       "      <td>804.0000</td>\n",
       "      <td>794.01</td>\n",
       "      <td>797.07</td>\n",
       "      <td>1652691</td>\n",
       "      <td>0</td>\n",
       "      <td>1</td>\n",
       "      <td>797.40</td>\n",
       "      <td>804.0000</td>\n",
       "      <td>794.01</td>\n",
       "      <td>797.07</td>\n",
       "      <td>1652691</td>\n",
       "    </tr>\n",
       "    <tr>\n",
       "      <th>687</th>\n",
       "      <td>2016-12-15</td>\n",
       "      <td>797.34</td>\n",
       "      <td>803.0000</td>\n",
       "      <td>792.92</td>\n",
       "      <td>797.85</td>\n",
       "      <td>1607120</td>\n",
       "      <td>0</td>\n",
       "      <td>1</td>\n",
       "      <td>797.34</td>\n",
       "      <td>803.0000</td>\n",
       "      <td>792.92</td>\n",
       "      <td>797.85</td>\n",
       "      <td>1607120</td>\n",
       "    </tr>\n",
       "    <tr>\n",
       "      <th>688</th>\n",
       "      <td>2016-12-16</td>\n",
       "      <td>800.40</td>\n",
       "      <td>800.8558</td>\n",
       "      <td>790.29</td>\n",
       "      <td>790.80</td>\n",
       "      <td>2337154</td>\n",
       "      <td>0</td>\n",
       "      <td>1</td>\n",
       "      <td>800.40</td>\n",
       "      <td>800.8558</td>\n",
       "      <td>790.29</td>\n",
       "      <td>790.80</td>\n",
       "      <td>2337154</td>\n",
       "    </tr>\n",
       "  </tbody>\n",
       "</table>\n",
       "</div>"
      ],
      "text/plain": [
       "           Date    Open      High     Low   Close   Volume  Ex-Dividend  \\\n",
       "685  2016-12-13  793.90  804.3799  793.34  796.10  2085270            0   \n",
       "686  2016-12-14  797.40  804.0000  794.01  797.07  1652691            0   \n",
       "687  2016-12-15  797.34  803.0000  792.92  797.85  1607120            0   \n",
       "688  2016-12-16  800.40  800.8558  790.29  790.80  2337154            0   \n",
       "\n",
       "     Split Ratio  Adj. Open  Adj. High  Adj. Low  Adj. Close  Adj. Volume  \n",
       "685            1     793.90   804.3799    793.34      796.10      2085270  \n",
       "686            1     797.40   804.0000    794.01      797.07      1652691  \n",
       "687            1     797.34   803.0000    792.92      797.85      1607120  \n",
       "688            1     800.40   800.8558    790.29      790.80      2337154  "
      ]
     },
     "execution_count": 26,
     "metadata": {},
     "output_type": "execute_result"
    }
   ],
   "source": [
    "df.ix[685:688,]"
   ]
  },
  {
   "cell_type": "code",
   "execution_count": 12,
   "metadata": {
    "collapsed": false
   },
   "outputs": [],
   "source": [
    "df['Date'] = pd.to_datetime(df['Date'])"
   ]
  },
  {
   "cell_type": "code",
   "execution_count": 17,
   "metadata": {
    "collapsed": false
   },
   "outputs": [],
   "source": [
    "company = data['dataset']['name']"
   ]
  },
  {
   "cell_type": "code",
   "execution_count": 15,
   "metadata": {
    "collapsed": true
   },
   "outputs": [],
   "source": [
    "from bokeh.plotting import figure, show, output_file, vplot"
   ]
  },
  {
   "cell_type": "code",
   "execution_count": 18,
   "metadata": {
    "collapsed": false
   },
   "outputs": [],
   "source": [
    "output_file(\"stockstest.html\", title=company)\n",
    "\n",
    "p1 = figure(x_axis_type = \"datetime\")\n",
    "p1.line(df['Date'], df['Close'], color='#0000FF', legend=ticker+\": Close\")\n",
    "p1.title = ticker + \" (Data from Quandle WIKI set)\"\n",
    "p1.grid.grid_line_alpha=1.0\n",
    "p1.xaxis.axis_label = 'Date'\n",
    "show(p1)"
   ]
  },
  {
   "cell_type": "code",
   "execution_count": null,
   "metadata": {
    "collapsed": true
   },
   "outputs": [],
   "source": []
  }
 ],
 "metadata": {
  "kernelspec": {
   "display_name": "Python 2",
   "language": "python",
   "name": "python2"
  },
  "language_info": {
   "codemirror_mode": {
    "name": "ipython",
    "version": 2
   },
   "file_extension": ".py",
   "mimetype": "text/x-python",
   "name": "python",
   "nbconvert_exporter": "python",
   "pygments_lexer": "ipython2",
   "version": "2.7.11"
  }
 },
 "nbformat": 4,
 "nbformat_minor": 0
}
